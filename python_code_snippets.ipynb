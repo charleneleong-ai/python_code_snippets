{
 "cells": [
  {
   "cell_type": "markdown",
   "metadata": {},
   "source": [
    "## File access"
   ]
  },
  {
   "cell_type": "markdown",
   "metadata": {
    "ExecuteTime": {
     "end_time": "2019-01-12T17:04:53.779727Z",
     "start_time": "2019-01-12T17:04:53.775735Z"
    }
   },
   "source": [
    "### Get latest file from folder"
   ]
  },
  {
   "cell_type": "code",
   "execution_count": 1,
   "metadata": {
    "ExecuteTime": {
     "end_time": "2019-01-12T17:25:25.060946Z",
     "start_time": "2019-01-12T17:25:24.249517Z"
    }
   },
   "outputs": [
    {
     "data": {
      "text/plain": [
       "'data\\\\weather_data_2019-01-12_2017-01-12.csv'"
      ]
     },
     "execution_count": 1,
     "metadata": {},
     "output_type": "execute_result"
    }
   ],
   "source": [
    "import pandas\n",
    "import glob\n",
    "import os\n",
    "\n",
    "# Print latest csv fname from data folder\n",
    "data = glob.glob('data/*.csv')\n",
    "latest = max(data, key=os.path.getctime)\n",
    "latest"
   ]
  },
  {
   "cell_type": "markdown",
   "metadata": {},
   "source": [
    "### Getting filename from filepath"
   ]
  },
  {
   "cell_type": "code",
   "execution_count": 2,
   "metadata": {
    "ExecuteTime": {
     "end_time": "2019-01-12T17:25:27.488397Z",
     "start_time": "2019-01-12T17:25:27.483408Z"
    }
   },
   "outputs": [
    {
     "name": "stdout",
     "output_type": "stream",
     "text": [
      "data\\weather_data_2019-01-12_2017-01-12.csv\n",
      "weather_data_2019-01-12_2017-01-12.csv\n"
     ]
    }
   ],
   "source": [
    "import glob\n",
    "import os\n",
    "\n",
    "data = glob.glob('data/*.csv')\n",
    "latest = max(data, key=os.path.getctime)\n",
    "print(latest)\n",
    "fname = os.path.basename(os.path.normpath(latest))\n",
    "print(fname)"
   ]
  },
  {
   "cell_type": "markdown",
   "metadata": {},
   "source": [
    "### Append to csv using pd df"
   ]
  },
  {
   "cell_type": "code",
   "execution_count": 25,
   "metadata": {
    "ExecuteTime": {
     "end_time": "2019-01-12T17:43:45.784062Z",
     "start_time": "2019-01-12T17:43:45.742769Z"
    }
   },
   "outputs": [],
   "source": [
    "import pandas as pd\n",
    "import csv\n",
    "# Write headers\n",
    "fname = 'data/append.csv'\n",
    "headers = ['x', 'y', 'z']\n",
    "with open(fname, 'w') as f:\n",
    "            writer = csv.writer(f)\n",
    "            writer.writerow(headers)\n",
    "x = 0\n",
    "y = 0\n",
    "z = 0\n",
    "for _ in range(10): \n",
    "    # Need to define headers and index for scalar pd   \n",
    "    df = pd.DataFrame({'x': x, 'y': y, 'z': z}, columns=headers, index=[0])    \n",
    "    # Append to csv\n",
    "    with open(fname, 'a') as f:\n",
    "        df.to_csv(f, header=False, index=False)   \n",
    "    x+=1\n",
    "    y+=2\n",
    "    z-=3\n",
    "    \n"
   ]
  },
  {
   "cell_type": "markdown",
   "metadata": {},
   "source": [
    "## Pandas DataFrames"
   ]
  },
  {
   "cell_type": "markdown",
   "metadata": {},
   "source": [
    "### Getting column headers"
   ]
  },
  {
   "cell_type": "code",
   "execution_count": 27,
   "metadata": {
    "ExecuteTime": {
     "end_time": "2019-01-13T01:05:31.646752Z",
     "start_time": "2019-01-13T01:05:31.636736Z"
    }
   },
   "outputs": [
    {
     "data": {
      "text/plain": [
       "['x', 'y', 'z']"
      ]
     },
     "execution_count": 27,
     "metadata": {},
     "output_type": "execute_result"
    }
   ],
   "source": [
    "import pandas as pd\n",
    "\n",
    "df = pd.read_csv('data/example_data.csv')\n",
    "list(df)"
   ]
  },
  {
   "cell_type": "markdown",
   "metadata": {},
   "source": [
    "### Filtering df by column name"
   ]
  },
  {
   "cell_type": "code",
   "execution_count": 34,
   "metadata": {
    "ExecuteTime": {
     "end_time": "2019-01-13T01:31:29.719016Z",
     "start_time": "2019-01-13T01:31:29.693086Z"
    }
   },
   "outputs": [
    {
     "name": "stdout",
     "output_type": "stream",
     "text": [
      "['time', 'summary', 'icon', 'sunriseTime', 'sunsetTime', 'moonPhase', 'precipType', 'temperatureHigh', 'temperatureHighError', 'temperatureHighTime', 'temperatureLow', 'temperatureLowError', 'temperatureLowTime', 'apparentTemperatureHigh', 'apparentTemperatureHighTime', 'apparentTemperatureLow', 'apparentTemperatureLowTime', 'dewPoint', 'humidity', 'pressure', 'pressureError', 'windSpeed', 'windSpeedError', 'windBearing', 'windBearingError', 'cloudCover', 'cloudCoverError', 'uvIndex', 'uvIndexTime', 'temperatureMin', 'temperatureMinError', 'temperatureMinTime', 'temperatureMax', 'temperatureMaxError', 'temperatureMaxTime', 'apparentTemperatureMin', 'apparentTemperatureMinTime', 'apparentTemperatureMax', 'apparentTemperatureMaxTime']\n",
      "['summary', 'icon', 'moonPhase', 'precipType', 'temperatureHigh', 'temperatureHighError', 'temperatureLow', 'temperatureLowError', 'apparentTemperatureHigh', 'apparentTemperatureLow', 'dewPoint', 'humidity', 'pressure', 'pressureError', 'windSpeed', 'windSpeedError', 'windBearing', 'windBearingError', 'cloudCover', 'cloudCoverError', 'uvIndex', 'temperatureMin', 'temperatureMinError', 'temperatureMax', 'temperatureMaxError', 'apparentTemperatureMin', 'apparentTemperatureMax']\n"
     ]
    }
   ],
   "source": [
    "import pandas as pd\n",
    "import re\n",
    "\n",
    "df = pd.read_csv('data/weather_data_2019-01-12_2017-01-12.csv').set_index('date')  \n",
    "print(list(df))\n",
    "for header in list(df):\n",
    "    if(re.search('time', header, re.IGNORECASE)):\n",
    "        df.drop(header, axis = 1, inplace = True)\n",
    "    \n",
    "print(list(df))"
   ]
  },
  {
   "cell_type": "code",
   "execution_count": null,
   "metadata": {},
   "outputs": [],
   "source": []
  }
 ],
 "metadata": {
  "kernelspec": {
   "display_name": "Python 3",
   "language": "python",
   "name": "python3"
  },
  "language_info": {
   "codemirror_mode": {
    "name": "ipython",
    "version": 3
   },
   "file_extension": ".py",
   "mimetype": "text/x-python",
   "name": "python",
   "nbconvert_exporter": "python",
   "pygments_lexer": "ipython3",
   "version": "3.6.5"
  },
  "latex_envs": {
   "LaTeX_envs_menu_present": true,
   "autoclose": false,
   "autocomplete": true,
   "bibliofile": "biblio.bib",
   "cite_by": "apalike",
   "current_citInitial": 1,
   "eqLabelWithNumbers": true,
   "eqNumInitial": 1,
   "hotkeys": {
    "equation": "Ctrl-E",
    "itemize": "Ctrl-I"
   },
   "labels_anchors": false,
   "latex_user_defs": false,
   "report_style_numbering": false,
   "user_envs_cfg": false
  },
  "toc": {
   "base_numbering": 1,
   "nav_menu": {},
   "number_sections": true,
   "sideBar": true,
   "skip_h1_title": false,
   "title_cell": "Table of Contents",
   "title_sidebar": "Contents",
   "toc_cell": false,
   "toc_position": {
    "height": "calc(100% - 180px)",
    "left": "10px",
    "top": "150px",
    "width": "165px"
   },
   "toc_section_display": true,
   "toc_window_display": false
  },
  "varInspector": {
   "cols": {
    "lenName": 16,
    "lenType": 16,
    "lenVar": 40
   },
   "kernels_config": {
    "python": {
     "delete_cmd_postfix": "",
     "delete_cmd_prefix": "del ",
     "library": "var_list.py",
     "varRefreshCmd": "print(var_dic_list())"
    },
    "r": {
     "delete_cmd_postfix": ") ",
     "delete_cmd_prefix": "rm(",
     "library": "var_list.r",
     "varRefreshCmd": "cat(var_dic_list()) "
    }
   },
   "types_to_exclude": [
    "module",
    "function",
    "builtin_function_or_method",
    "instance",
    "_Feature"
   ],
   "window_display": false
  }
 },
 "nbformat": 4,
 "nbformat_minor": 2
}
